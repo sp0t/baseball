{
 "cells": [
  {
   "cell_type": "code",
   "execution_count": 5,
   "id": "5739f48f",
   "metadata": {
    "code_folding": [
     0
    ]
   },
   "outputs": [],
   "source": [
    "# Dependencies \n",
    "import pandas as pd\n",
    "from datetime import date, datetime, timedelta \n",
    "import statsapi as mlb\n",
    "from pytz import timezone\n",
    "from io import StringIO\n",
    "import time\n",
    "import uuid\n",
    "from sqlalchemy import create_engine\n",
    "import numpy as np"
   ]
  }
 ],
 "metadata": {
  "kernelspec": {
   "display_name": "Python 3 (ipykernel)",
   "language": "python",
   "name": "python3"
  },
  "language_info": {
   "codemirror_mode": {
    "name": "ipython",
    "version": 3
   },
   "file_extension": ".py",
   "mimetype": "text/x-python",
   "name": "python",
   "nbconvert_exporter": "python",
   "pygments_lexer": "ipython3",
   "version": "3.9.7"
  }
 },
 "nbformat": 4,
 "nbformat_minor": 5
}
